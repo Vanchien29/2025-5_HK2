{
 "cells": [
  {
   "cell_type": "code",
   "execution_count": 25,
   "id": "11eaf4f0-4a4d-4b30-bff0-95e0f16b79c0",
   "metadata": {},
   "outputs": [
    {
     "data": {
      "text/plain": [
       "6"
      ]
     },
     "execution_count": 25,
     "metadata": {},
     "output_type": "execute_result"
    }
   ],
   "source": [
    "9-3\n"
   ]
  },
  {
   "cell_type": "code",
   "execution_count": 23,
   "id": "8ef72f22-e506-4540-82ab-23d7dd93f62b",
   "metadata": {},
   "outputs": [
    {
     "name": "stdout",
     "output_type": "stream",
     "text": [
      "      0   1\n",
      "0   2.0   5\n",
      "1   5.0   7\n",
      "2   NaN   8\n",
      "3   9.0  12\n",
      "4  12.0  16\n",
      "dữ liệu dạng mảng : \n",
      "[[ 2.  5.]\n",
      " [ 5.  7.]\n",
      " [nan  8.]\n",
      " [ 9. 12.]\n",
      " [12. 16.]]\n",
      "dữ liệu sau khi bổ sung là : \n",
      "[[ 2.  5.]\n",
      " [ 5.  7.]\n",
      " [ 7.  8.]\n",
      " [ 9. 12.]\n",
      " [12. 16.]]\n"
     ]
    }
   ],
   "source": [
    "import numpy as np\n",
    "import pandas as pd\n",
    "from sklearn.impute import SimpleImputer as ipt\n",
    "\n",
    "data = pd.read_csv('data1.csv',header=None)\n",
    "print(data)\n",
    "print('dữ liệu dạng mảng : ')\n",
    "X = data.values\n",
    "print(X)\n",
    "print('dữ liệu sau khi bổ sung là : ')\n",
    "imp = ipt(missing_values=np.nan, strategy='mean')\n",
    "imp.fit(X)\n",
    "result = imp.transform(X)\n",
    "print(result)"
   ]
  },
  {
   "cell_type": "code",
   "execution_count": null,
   "id": "1faa35b0-b219-4fc1-abc1-3fcf7b32a382",
   "metadata": {},
   "outputs": [],
   "source": []
  },
  {
   "cell_type": "code",
   "execution_count": null,
   "id": "3ef88cf8-76ec-4110-9cd4-3ac3bfc48eda",
   "metadata": {},
   "outputs": [],
   "source": []
  }
 ],
 "metadata": {
  "kernelspec": {
   "display_name": "Python 3 (ipykernel)",
   "language": "python",
   "name": "python3"
  },
  "language_info": {
   "codemirror_mode": {
    "name": "ipython",
    "version": 3
   },
   "file_extension": ".py",
   "mimetype": "text/x-python",
   "name": "python",
   "nbconvert_exporter": "python",
   "pygments_lexer": "ipython3",
   "version": "3.12.4"
  }
 },
 "nbformat": 4,
 "nbformat_minor": 5
}
